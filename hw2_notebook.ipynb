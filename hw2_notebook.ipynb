{
 "cells": [
  {
   "cell_type": "code",
   "execution_count": 9,
   "id": "52abb791-9c7b-475b-89cc-63f370ba8838",
   "metadata": {},
   "outputs": [],
   "source": [
    "import mlflow\n",
    "import os\n",
    "import pandas as pd\n",
    "\n",
    "from mlflow.tracking import MlflowClient\n",
    "from mlflow.models import infer_signature\n",
    "from mlflow.store.artifact.artifact_repository_registry import get_artifact_repository\n",
    "\n",
    "from sklearn.datasets import fetch_california_housing\n",
    "from sklearn.ensemble import RandomForestRegressor, HistGradientBoostingRegressor\n",
    "from sklearn.linear_model import LinearRegression\n",
    "from sklearn.metrics import mean_squared_error, r2_score\n",
    "from sklearn.model_selection import train_test_split"
   ]
  },
  {
   "cell_type": "code",
   "execution_count": 10,
   "id": "4818c522-beb0-4817-ac50-84ef8aa483d9",
   "metadata": {},
   "outputs": [],
   "source": [
    "import datetime\n",
    "exp_name = f'exp_{datetime.datetime.now().strftime(\"%d%m%y_%H-%M-%S_%f\")}'"
   ]
  },
  {
   "cell_type": "code",
   "execution_count": 11,
   "id": "c6d33cce-24c0-485d-bcde-ae25b48c1ec7",
   "metadata": {},
   "outputs": [],
   "source": [
    "exp_id = mlflow.create_experiment(name=exp_name)"
   ]
  },
  {
   "cell_type": "code",
   "execution_count": 12,
   "id": "9c3856ac-b440-45fe-9ba5-114e18db8ffb",
   "metadata": {},
   "outputs": [],
   "source": [
    "housing = fetch_california_housing(as_frame=True)"
   ]
  },
  {
   "cell_type": "code",
   "execution_count": 13,
   "id": "1f0c1bdd-f73b-4f51-8cdc-ff049345511d",
   "metadata": {},
   "outputs": [],
   "source": [
    "X_train, X_test, y_train, y_test = train_test_split(housing['data'], housing['target'])\n",
    "X_val, X_test, y_val, y_test = train_test_split(X_test, y_test, test_size=0.5)"
   ]
  },
  {
   "cell_type": "code",
   "execution_count": 14,
   "id": "218d6f3d-8353-4abd-86bb-9efbe32946b3",
   "metadata": {},
   "outputs": [],
   "source": [
    "models = dict(zip([\"RandomForest\", \"LinearRegression\", \"HistGB\"], \n",
    "                  [RandomForestRegressor(), LinearRegression(), HistGradientBoostingRegressor()]))"
   ]
  },
  {
   "cell_type": "code",
   "execution_count": 15,
   "id": "1dcefaf8-9517-4ab8-809c-e9550c23f8cf",
   "metadata": {},
   "outputs": [
    {
     "name": "stderr",
     "output_type": "stream",
     "text": [
      "2025/02/13 21:35:45 INFO mlflow.models.evaluation.default_evaluator: Testing metrics on first row...\n",
      "2025/02/13 21:35:45 WARNING mlflow.models.evaluation.default_evaluator: SHAP or matplotlib package is not installed, so model explainability insights will not be logged.\n",
      "2025/02/13 21:35:45 INFO mlflow.tracking._tracking_service.client: 🏃 View run RandomForest at: http://mlflow-service:5000/#/experiments/412476594189829162/runs/dcc6ced3adbc4744ae7791bedac38a39.\n",
      "2025/02/13 21:35:45 INFO mlflow.tracking._tracking_service.client: 🧪 View experiment at: http://mlflow-service:5000/#/experiments/412476594189829162.\n",
      "2025/02/13 21:35:45 INFO mlflow.models.evaluation.default_evaluator: Testing metrics on first row...\n",
      "2025/02/13 21:35:45 WARNING mlflow.models.evaluation.default_evaluator: SHAP or matplotlib package is not installed, so model explainability insights will not be logged.\n",
      "2025/02/13 21:35:45 INFO mlflow.tracking._tracking_service.client: 🏃 View run LinearRegression at: http://mlflow-service:5000/#/experiments/412476594189829162/runs/8bc1680356ca4ea69d92a6a43e1c9870.\n",
      "2025/02/13 21:35:45 INFO mlflow.tracking._tracking_service.client: 🧪 View experiment at: http://mlflow-service:5000/#/experiments/412476594189829162.\n",
      "2025/02/13 21:35:46 INFO mlflow.models.evaluation.default_evaluator: Testing metrics on first row...\n",
      "2025/02/13 21:35:46 WARNING mlflow.models.evaluation.default_evaluator: SHAP or matplotlib package is not installed, so model explainability insights will not be logged.\n",
      "2025/02/13 21:35:46 INFO mlflow.tracking._tracking_service.client: 🏃 View run HistGB at: http://mlflow-service:5000/#/experiments/412476594189829162/runs/bcde80fe71f74a31911dfd2707a7b0a0.\n",
      "2025/02/13 21:35:46 INFO mlflow.tracking._tracking_service.client: 🧪 View experiment at: http://mlflow-service:5000/#/experiments/412476594189829162.\n",
      "2025/02/13 21:35:46 INFO mlflow.tracking._tracking_service.client: 🏃 View run California_run_130225_21-35-31_673954 at: http://mlflow-service:5000/#/experiments/412476594189829162/runs/4d305ad02be24294bd0213b87be9f723.\n",
      "2025/02/13 21:35:46 INFO mlflow.tracking._tracking_service.client: 🧪 View experiment at: http://mlflow-service:5000/#/experiments/412476594189829162.\n"
     ]
    }
   ],
   "source": [
    "time_mark = f'{datetime.datetime.now().strftime(\"%d%m%y_%H-%M-%S_%f\")}'\n",
    "\n",
    "with mlflow.start_run(run_name=f\"California_run_{time_mark}\", experiment_id = exp_id, description = \"parent\") as parent_run:\n",
    "    for model_name in models.keys():\n",
    "        with mlflow.start_run(run_name=model_name, experiment_id=exp_id, nested=True) as child_run:\n",
    "            model = models[model_name]\n",
    "            \n",
    "            model.fit(pd.DataFrame(X_train), y_train)\n",
    "        \n",
    "            prediction = model.predict(X_val)\n",
    "        \n",
    "            eval_df = X_val.copy()\n",
    "            eval_df[\"target\"] = y_val\n",
    "            eval_df[\"prediction\"] = prediction\n",
    "        \n",
    "            #signature = infer_signature(X_test, prediction)\n",
    "            #model_info = mlflow.sklearn.log_model(model, \"logreg\", signature=signature)\n",
    "            mlflow.evaluate(\n",
    "                #model=model_info.model_uri,\n",
    "                data=eval_df,\n",
    "                targets=\"target\",\n",
    "                predictions=\"prediction\",\n",
    "                model_type=\"regressor\",\n",
    "                evaluators=[\"default\"],\n",
    "            )"
   ]
  },
  {
   "cell_type": "code",
   "execution_count": null,
   "id": "d6ed353b-444f-4c39-9644-02bc0d9d5f78",
   "metadata": {},
   "outputs": [],
   "source": []
  }
 ],
 "metadata": {
  "kernelspec": {
   "display_name": "Python 3 (ipykernel)",
   "language": "python",
   "name": "python3"
  },
  "language_info": {
   "codemirror_mode": {
    "name": "ipython",
    "version": 3
   },
   "file_extension": ".py",
   "mimetype": "text/x-python",
   "name": "python",
   "nbconvert_exporter": "python",
   "pygments_lexer": "ipython3",
   "version": "3.11.4"
  }
 },
 "nbformat": 4,
 "nbformat_minor": 5
}
